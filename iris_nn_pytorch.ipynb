{
 "cells": [
  {
   "cell_type": "code",
   "execution_count": 1,
   "metadata": {},
   "outputs": [],
   "source": [
    "import torch\n",
    "import torch.nn as nn\n",
    "import torch.optim as optim\n",
    "from torch.utils.data import DataLoader, TensorDataset\n",
    "from sklearn.datasets import load_iris\n",
    "from sklearn.model_selection import train_test_split\n",
    "from sklearn.preprocessing import StandardScaler\n",
    "import numpy as np"
   ]
  },
  {
   "cell_type": "code",
   "execution_count": 2,
   "metadata": {},
   "outputs": [],
   "source": [
    "# Load Iris dataset\n",
    "data = load_iris()\n",
    "X = data.data\n",
    "y = data.target"
   ]
  },
  {
   "cell_type": "code",
   "execution_count": 3,
   "metadata": {},
   "outputs": [],
   "source": [
    "# Standardize the data\n",
    "scaler = StandardScaler()\n",
    "X_scaled = scaler.fit_transform(X)\n",
    "\n",
    "# Convert to PyTorch tensors\n",
    "X_tensor = torch.Tensor(X_scaled)\n",
    "y_tensor = torch.LongTensor(y)"
   ]
  },
  {
   "cell_type": "code",
   "execution_count": 4,
   "metadata": {},
   "outputs": [],
   "source": [
    "# Split the data into training and testing sets\n",
    "X_train, X_test, y_train, y_test = train_test_split(X_tensor, y_tensor, test_size=0.2, random_state=42)"
   ]
  },
  {
   "cell_type": "code",
   "execution_count": 5,
   "metadata": {},
   "outputs": [],
   "source": [
    "# Create DataLoader for batch processing\n",
    "train_data = TensorDataset(X_train, y_train)\n",
    "test_data = TensorDataset(X_test, y_test)\n",
    "\n",
    "train_loader = DataLoader(train_data, batch_size=16, shuffle=True)\n",
    "test_loader = DataLoader(test_data, batch_size=16, shuffle=False)"
   ]
  },
  {
   "cell_type": "code",
   "execution_count": 6,
   "metadata": {},
   "outputs": [],
   "source": [
    "# Define a simple feedforward neural network\n",
    "class SimpleNN(nn.Module):\n",
    "    def __init__(self):\n",
    "        super(SimpleNN, self).__init__()\n",
    "        self.fc1 = nn.Linear(4, 64)  # Input layer (4 features) -> 64 neurons\n",
    "        self.fc2 = nn.Linear(64, 3)  # Hidden layer -> Output layer (3 classes)\n",
    "\n",
    "    def forward(self, x):\n",
    "        x = torch.relu(self.fc1(x))  # Apply ReLU activation\n",
    "        x = self.fc2(x)              # Output layer\n",
    "        return x"
   ]
  },
  {
   "cell_type": "code",
   "execution_count": 7,
   "metadata": {},
   "outputs": [
    {
     "name": "stdout",
     "output_type": "stream",
     "text": [
      "Epoch [1/50], Loss: 1.1243, Accuracy: 35.00%\n",
      "Epoch [2/50], Loss: 1.0122, Accuracy: 54.17%\n",
      "Epoch [3/50], Loss: 0.9209, Accuracy: 79.17%\n",
      "Epoch [4/50], Loss: 0.8330, Accuracy: 83.33%\n",
      "Epoch [5/50], Loss: 0.7639, Accuracy: 83.33%\n",
      "Epoch [6/50], Loss: 0.7203, Accuracy: 81.67%\n",
      "Epoch [7/50], Loss: 0.6453, Accuracy: 80.83%\n",
      "Epoch [8/50], Loss: 0.6049, Accuracy: 81.67%\n",
      "Epoch [9/50], Loss: 0.5571, Accuracy: 82.50%\n",
      "Epoch [10/50], Loss: 0.5106, Accuracy: 84.17%\n",
      "Epoch [11/50], Loss: 0.4915, Accuracy: 84.17%\n",
      "Epoch [12/50], Loss: 0.4772, Accuracy: 84.17%\n",
      "Epoch [13/50], Loss: 0.4340, Accuracy: 84.17%\n",
      "Epoch [14/50], Loss: 0.4299, Accuracy: 84.17%\n",
      "Epoch [15/50], Loss: 0.3978, Accuracy: 84.17%\n",
      "Epoch [16/50], Loss: 0.3875, Accuracy: 86.67%\n",
      "Epoch [17/50], Loss: 0.3726, Accuracy: 86.67%\n",
      "Epoch [18/50], Loss: 0.3530, Accuracy: 88.33%\n",
      "Epoch [19/50], Loss: 0.3508, Accuracy: 89.17%\n",
      "Epoch [20/50], Loss: 0.3274, Accuracy: 90.00%\n",
      "Epoch [21/50], Loss: 0.3252, Accuracy: 91.67%\n",
      "Epoch [22/50], Loss: 0.3184, Accuracy: 91.67%\n",
      "Epoch [23/50], Loss: 0.3088, Accuracy: 91.67%\n",
      "Epoch [24/50], Loss: 0.2927, Accuracy: 91.67%\n",
      "Epoch [25/50], Loss: 0.3029, Accuracy: 91.67%\n",
      "Epoch [26/50], Loss: 0.2958, Accuracy: 91.67%\n",
      "Epoch [27/50], Loss: 0.2714, Accuracy: 91.67%\n",
      "Epoch [28/50], Loss: 0.2568, Accuracy: 91.67%\n",
      "Epoch [29/50], Loss: 0.2689, Accuracy: 93.33%\n",
      "Epoch [30/50], Loss: 0.2551, Accuracy: 93.33%\n",
      "Epoch [31/50], Loss: 0.2427, Accuracy: 94.17%\n",
      "Epoch [32/50], Loss: 0.2348, Accuracy: 94.17%\n",
      "Epoch [33/50], Loss: 0.2435, Accuracy: 94.17%\n",
      "Epoch [34/50], Loss: 0.2199, Accuracy: 94.17%\n",
      "Epoch [35/50], Loss: 0.2275, Accuracy: 94.17%\n",
      "Epoch [36/50], Loss: 0.2130, Accuracy: 95.00%\n",
      "Epoch [37/50], Loss: 0.2298, Accuracy: 95.00%\n",
      "Epoch [38/50], Loss: 0.1962, Accuracy: 95.00%\n",
      "Epoch [39/50], Loss: 0.1933, Accuracy: 95.00%\n",
      "Epoch [40/50], Loss: 0.2009, Accuracy: 95.00%\n",
      "Epoch [41/50], Loss: 0.1912, Accuracy: 95.00%\n",
      "Epoch [42/50], Loss: 0.1922, Accuracy: 95.00%\n",
      "Epoch [43/50], Loss: 0.1730, Accuracy: 95.83%\n",
      "Epoch [44/50], Loss: 0.1728, Accuracy: 95.83%\n",
      "Epoch [45/50], Loss: 0.1693, Accuracy: 95.83%\n",
      "Epoch [46/50], Loss: 0.1663, Accuracy: 95.83%\n",
      "Epoch [47/50], Loss: 0.1591, Accuracy: 95.83%\n",
      "Epoch [48/50], Loss: 0.1686, Accuracy: 95.83%\n",
      "Epoch [49/50], Loss: 0.1503, Accuracy: 96.67%\n",
      "Epoch [50/50], Loss: 0.1607, Accuracy: 95.83%\n",
      "Test Accuracy: 100.00%\n"
     ]
    }
   ],
   "source": [
    "# Initialize the model, loss function, and optimizer\n",
    "model = SimpleNN()\n",
    "criterion = nn.CrossEntropyLoss()  # For multi-class classification\n",
    "optimizer = optim.Adam(model.parameters(), lr=0.001)\n",
    "\n",
    "# Train the model\n",
    "num_epochs = 50\n",
    "for epoch in range(num_epochs):\n",
    "    model.train()  # Set the model to training mode\n",
    "    running_loss = 0.0\n",
    "    correct = 0\n",
    "    total = 0\n",
    "    \n",
    "    for inputs, labels in train_loader:\n",
    "        optimizer.zero_grad()  # Zero the gradients\n",
    "        outputs = model(inputs)  # Forward pass\n",
    "        loss = criterion(outputs, labels)  # Compute loss\n",
    "        loss.backward()  # Backward pass\n",
    "        optimizer.step()  # Update weights\n",
    "        \n",
    "        running_loss += loss.item()\n",
    "        \n",
    "        _, predicted = torch.max(outputs, 1)  # Get the predicted class\n",
    "        total += labels.size(0)\n",
    "        correct += (predicted == labels).sum().item()\n",
    "\n",
    "    avg_loss = running_loss / len(train_loader)\n",
    "    accuracy = 100 * correct / total\n",
    "    \n",
    "    print(f'Epoch [{epoch+1}/{num_epochs}], Loss: {avg_loss:.4f}, Accuracy: {accuracy:.2f}%')\n",
    "\n",
    "# Evaluate the model\n",
    "model.eval()  # Set the model to evaluation mode\n",
    "correct = 0\n",
    "total = 0\n",
    "\n",
    "with torch.no_grad():\n",
    "    for inputs, labels in test_loader:\n",
    "        outputs = model(inputs)\n",
    "        _, predicted = torch.max(outputs, 1)\n",
    "        total += labels.size(0)\n",
    "        correct += (predicted == labels).sum().item()\n",
    "\n",
    "test_accuracy = 100 * correct / total\n",
    "print(f'Test Accuracy: {test_accuracy:.2f}%')"
   ]
  }
 ],
 "metadata": {
  "kernelspec": {
   "display_name": "Python 3",
   "language": "python",
   "name": "python3"
  },
  "language_info": {
   "codemirror_mode": {
    "name": "ipython",
    "version": 3
   },
   "file_extension": ".py",
   "mimetype": "text/x-python",
   "name": "python",
   "nbconvert_exporter": "python",
   "pygments_lexer": "ipython3",
   "version": "3.10.5"
  }
 },
 "nbformat": 4,
 "nbformat_minor": 2
}
