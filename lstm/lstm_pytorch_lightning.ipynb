{
 "cells": [
  {
   "cell_type": "code",
   "execution_count": 1,
   "metadata": {},
   "outputs": [
    {
     "name": "stderr",
     "output_type": "stream",
     "text": [
      "c:\\Users\\Sanjana Rayarala\\AppData\\Local\\Programs\\Python\\Python310\\lib\\site-packages\\torch\\utils\\_pytree.py:185: FutureWarning: optree is installed but the version is too old to support PyTorch Dynamo in C++ pytree. C++ pytree support is disabled. Please consider upgrading optree using `python3 -m pip install --upgrade 'optree>=0.13.0'`.\n",
      "  warnings.warn(\n"
     ]
    }
   ],
   "source": [
    "import torch\n",
    "import torch.nn as nn\n",
    "import torch.optim as optim"
   ]
  },
  {
   "cell_type": "code",
   "execution_count": 2,
   "metadata": {},
   "outputs": [],
   "source": [
    "import torch.nn.functional as F"
   ]
  },
  {
   "cell_type": "code",
   "execution_count": 3,
   "metadata": {},
   "outputs": [],
   "source": [
    "import lightning as L\n",
    "from torch.utils.data import TensorDataset, DataLoader"
   ]
  },
  {
   "cell_type": "code",
   "execution_count": 4,
   "metadata": {},
   "outputs": [],
   "source": [
    "class LSTMbyHand(L.LightningModule):\n",
    "    def __init__(self):\n",
    "        super().__init__()\n",
    "        mean= torch.tensor(0.0)\n",
    "        std = torch.tensor(1.0)\n",
    "\n",
    "        self.wlr1= nn.Parameter(torch.normal(mean=mean, std= std), requires_grad=True)\n",
    "        self.wlr2= nn.Parameter(torch.normal(mean=mean, std= std), requires_grad=True)\n",
    "        self.blr1= nn.Parameter(torch.tensor(0.), requires_grad=True)\n",
    "\n",
    "        self.wpr1= nn.Parameter(torch.normal(mean=mean, std= std), requires_grad=True)\n",
    "        self.wpr2= nn.Parameter(torch.normal(mean=mean, std= std), requires_grad=True)\n",
    "        self.bpr1= nn.Parameter(torch.tensor(0.), requires_grad=True)\n",
    "\n",
    "        self.wp1= nn.Parameter(torch.normal(mean=mean, std= std), requires_grad=True)\n",
    "        self.wp2= nn.Parameter(torch.normal(mean=mean, std= std), requires_grad=True)\n",
    "        self.bp1= nn.Parameter(torch.tensor(0.), requires_grad=True)\n",
    "\n",
    "        self.wo1= nn.Parameter(torch.normal(mean=mean, std= std), requires_grad=True)\n",
    "        self.wo2= nn.Parameter(torch.normal(mean=mean, std= std), requires_grad=True)\n",
    "        self.bo1= nn.Parameter(torch.tensor(0.), requires_grad=True)\n",
    "\n",
    "\n",
    "    def lstm_unit(self, input_value, long_memory, short_memory):\n",
    "        long_remember_percent= torch.sigmoid((short_memory * self.wlr1) + (input_value* self.wlr2) + self.blr1)\n",
    "        long_memory*=long_remember_percent\n",
    "\n",
    "        long_memory_potential= torch.tanh((short_memory* self.wp1)+(input_value* self.wp2)+ self.bp1)\n",
    "        long_memory_potential_remember_percent= torch.sigmoid((short_memory* self.wpr1)+(input_value* self.wpr2)+ self.bpr1)\n",
    "        long_memory+=long_memory_potential * long_memory_potential_remember_percent\n",
    "\n",
    "        short_memory_potential= torch.tanh(long_memory)\n",
    "        short_memory_potential_remember_percent= torch.sigmoid((short_memory* self.wo1)+(input_value* self.wo2)+ self.bo1)\n",
    "        short_memory+=short_memory_potential * short_memory_potential_remember_percent\n",
    "\n",
    "        return ([long_memory, short_memory])\n",
    "\n",
    "\n",
    "    def forward(self, input):\n",
    "        long_memory=0\n",
    "        short_memory=0\n",
    "        day1= input[0]\n",
    "        day2= input[1]\n",
    "        day3= input[2]\n",
    "        day4= input[3]\n",
    "\n",
    "        long_memory, short_memory= self.lstm_unit(day1, long_memory, short_memory)\n",
    "        long_memory, short_memory= self.lstm_unit(day2, long_memory, short_memory)\n",
    "        long_memory, short_memory= self.lstm_unit(day3, long_memory, short_memory)\n",
    "        long_memory, short_memory= self.lstm_unit(day4, long_memory, short_memory)\n",
    "\n",
    "        return short_memory\n",
    "\n",
    "\n",
    "    def configure_optimizers(self):\n",
    "        return optim.Adam(self.parameters())\n",
    "    \n",
    "    def training_step(self, batch, batch_idx):\n",
    "        input_i, label_i= batch\n",
    "        output_i= self.forward(input_i[0])\n",
    "        loss= (output_i- label_i)**2\n",
    "        self.log(\"train_loss\", loss)"
   ]
  },
  {
   "cell_type": "code",
   "execution_count": 5,
   "metadata": {},
   "outputs": [
    {
     "name": "stdout",
     "output_type": "stream",
     "text": [
      "tensor(0.6791)\n",
      "tensor(1.0331)\n"
     ]
    }
   ],
   "source": [
    "model= LSTMbyHand()\n",
    "print(model(torch.tensor([0., 0.5, 0.25, 1.])).detach()) #com A\n",
    "print(model(torch.tensor([1., 0.5, 0.25, 1.])).detach()) #com B"
   ]
  },
  {
   "cell_type": "markdown",
   "metadata": {},
   "source": [
    "Till here, we predicted without training"
   ]
  },
  {
   "cell_type": "markdown",
   "metadata": {},
   "source": [
    "Let's train"
   ]
  },
  {
   "cell_type": "code",
   "execution_count": 6,
   "metadata": {},
   "outputs": [],
   "source": [
    "inputs= torch.tensor([[0., 0.5, 0.25, 1.], [1., 0.5, 0.25, 1.]])\n",
    "labels= torch.tensor([0., 1.])\n",
    "\n",
    "dataset= TensorDataset(inputs,labels)\n",
    "dataloader= DataLoader(dataset)"
   ]
  },
  {
   "cell_type": "code",
   "execution_count": 7,
   "metadata": {},
   "outputs": [
    {
     "name": "stderr",
     "output_type": "stream",
     "text": [
      "GPU available: False, used: False\n",
      "TPU available: False, using: 0 TPU cores\n",
      "HPU available: False, using: 0 HPUs\n",
      "\n",
      "  | Name         | Type | Params | Mode\n",
      "---------------------------------------------\n",
      "  | other params | n/a  | 12     | n/a \n",
      "---------------------------------------------\n",
      "12        Trainable params\n",
      "0         Non-trainable params\n",
      "12        Total params\n",
      "0.000     Total estimated model params size (MB)\n",
      "0         Modules in train mode\n",
      "0         Modules in eval mode\n",
      "c:\\Users\\Sanjana Rayarala\\AppData\\Local\\Programs\\Python\\Python310\\lib\\site-packages\\lightning\\pytorch\\trainer\\connectors\\data_connector.py:425: The 'train_dataloader' does not have many workers which may be a bottleneck. Consider increasing the value of the `num_workers` argument` to `num_workers=11` in the `DataLoader` to improve performance.\n",
      "c:\\Users\\Sanjana Rayarala\\AppData\\Local\\Programs\\Python\\Python310\\lib\\site-packages\\lightning\\pytorch\\loops\\fit_loop.py:310: The number of training batches (2) is smaller than the logging interval Trainer(log_every_n_steps=50). Set a lower value for log_every_n_steps if you want to see logs for the training epoch.\n"
     ]
    },
    {
     "data": {
      "application/vnd.jupyter.widget-view+json": {
       "model_id": "f1a6601cb4ad4846a10da487591f7236",
       "version_major": 2,
       "version_minor": 0
      },
      "text/plain": [
       "Training: |          | 0/? [00:00<?, ?it/s]"
      ]
     },
     "metadata": {},
     "output_type": "display_data"
    },
    {
     "name": "stderr",
     "output_type": "stream",
     "text": [
      "c:\\Users\\Sanjana Rayarala\\AppData\\Local\\Programs\\Python\\Python310\\lib\\site-packages\\lightning\\pytorch\\loops\\optimization\\automatic.py:134: `training_step` returned `None`. If this was on purpose, ignore this warning...\n",
      "`Trainer.fit` stopped: `max_epochs=3000` reached.\n"
     ]
    }
   ],
   "source": [
    "trainer= L.Trainer(max_epochs=3000)\n",
    "trainer.fit(model, train_dataloaders=dataloader)"
   ]
  },
  {
   "cell_type": "code",
   "execution_count": 8,
   "metadata": {},
   "outputs": [
    {
     "name": "stdout",
     "output_type": "stream",
     "text": [
      "tensor(0.6791)\n",
      "tensor(1.0331)\n"
     ]
    }
   ],
   "source": [
    "print(model(torch.tensor([0., 0.5, 0.25, 1.])).detach()) #com A\n",
    "print(model(torch.tensor([1., 0.5, 0.25, 1.])).detach()) #com B"
   ]
  },
  {
   "cell_type": "markdown",
   "metadata": {},
   "source": [
    "Not closer to outputs, so let's add epochs!!"
   ]
  },
  {
   "cell_type": "code",
   "execution_count": 9,
   "metadata": {},
   "outputs": [],
   "source": [
    "path_to_best_checkpoint= trainer.checkpoint_callback.best_model_path"
   ]
  },
  {
   "cell_type": "code",
   "execution_count": 18,
   "metadata": {},
   "outputs": [
    {
     "name": "stderr",
     "output_type": "stream",
     "text": [
      "GPU available: False, used: False\n",
      "TPU available: False, using: 0 TPU cores\n",
      "HPU available: False, using: 0 HPUs\n",
      "Restoring states from the checkpoint path at c:\\ML\\NN_from_scratch\\lstm\\lightning_logs\\version_4\\checkpoints\\epoch=2999-step=6000.ckpt\n",
      "c:\\Users\\Sanjana Rayarala\\AppData\\Local\\Programs\\Python\\Python310\\lib\\site-packages\\lightning\\pytorch\\callbacks\\model_checkpoint.py:362: The dirpath has changed from 'c:\\\\ML\\\\NN_from_scratch\\\\lstm\\\\lightning_logs\\\\version_4\\\\checkpoints' to 'c:\\\\ML\\\\NN_from_scratch\\\\lstm\\\\lightning_logs\\\\version_5\\\\checkpoints', therefore `best_model_score`, `kth_best_model_path`, `kth_value`, `last_model_path` and `best_k_models` won't be reloaded. Only `best_model_path` will be reloaded.\n",
      "\n",
      "  | Name         | Type | Params | Mode\n",
      "---------------------------------------------\n",
      "  | other params | n/a  | 12     | n/a \n",
      "---------------------------------------------\n",
      "12        Trainable params\n",
      "0         Non-trainable params\n",
      "12        Total params\n",
      "0.000     Total estimated model params size (MB)\n",
      "0         Modules in train mode\n",
      "0         Modules in eval mode\n",
      "Restored all states from the checkpoint at c:\\ML\\NN_from_scratch\\lstm\\lightning_logs\\version_4\\checkpoints\\epoch=2999-step=6000.ckpt\n"
     ]
    },
    {
     "data": {
      "application/vnd.jupyter.widget-view+json": {
       "model_id": "94535d31943443a68862b37a8434b3fa",
       "version_major": 2,
       "version_minor": 0
      },
      "text/plain": [
       "Training: |          | 0/? [00:00<?, ?it/s]"
      ]
     },
     "metadata": {},
     "output_type": "display_data"
    },
    {
     "name": "stderr",
     "output_type": "stream",
     "text": [
      "`Trainer.fit` stopped: `max_epochs=5000` reached.\n"
     ]
    }
   ],
   "source": [
    "trainer= L.Trainer(max_epochs=5000)\n",
    "trainer.fit(model, train_dataloaders=dataloader, ckpt_path=path_to_best_checkpoint)"
   ]
  },
  {
   "cell_type": "code",
   "execution_count": 19,
   "metadata": {},
   "outputs": [],
   "source": [
    "path_to_best_checkpoint= trainer.checkpoint_callback.best_model_path"
   ]
  },
  {
   "cell_type": "code",
   "execution_count": 20,
   "metadata": {},
   "outputs": [
    {
     "data": {
      "text/plain": [
       "LSTMbyHand()"
      ]
     },
     "execution_count": 20,
     "metadata": {},
     "output_type": "execute_result"
    }
   ],
   "source": [
    "# Load the best model checkpoint\n",
    "best_model = LSTMbyHand.load_from_checkpoint(path_to_best_checkpoint)\n",
    "best_model.eval()  # Set the model to evaluation mode"
   ]
  },
  {
   "cell_type": "code",
   "execution_count": 24,
   "metadata": {},
   "outputs": [],
   "source": [
    "# Input tensor (1 sample, sequence length = 4)\n",
    "input_data = torch.tensor([1., 0.5, 0.25, 1.])\n",
    "\n",
    "# Ensure the model is on the same device as the input\n",
    "device = torch.device(\"cuda\" if torch.cuda.is_available() else \"cpu\")\n",
    "best_model.to(device)\n",
    "input_data = input_data.to(device)\n"
   ]
  },
  {
   "cell_type": "code",
   "execution_count": 25,
   "metadata": {},
   "outputs": [
    {
     "name": "stdout",
     "output_type": "stream",
     "text": [
      "Predicted Output: 1.0330582857131958\n"
     ]
    }
   ],
   "source": [
    "with torch.no_grad():\n",
    "    prediction = best_model(input_data)\n",
    "\n",
    "print(\"Predicted Output:\", prediction.item())  # Convert to scalar\n"
   ]
  },
  {
   "cell_type": "code",
   "execution_count": 23,
   "metadata": {},
   "outputs": [
    {
     "name": "stdout",
     "output_type": "stream",
     "text": [
      "Checkpoint Path: c:\\ML\\NN_from_scratch\\lstm\\lightning_logs\\version_5\\checkpoints\\epoch=4999-step=10000.ckpt\n"
     ]
    }
   ],
   "source": [
    "print(\"Checkpoint Path:\", path_to_best_checkpoint)"
   ]
  },
  {
   "cell_type": "code",
   "execution_count": 26,
   "metadata": {},
   "outputs": [],
   "source": [
    "trainer.save_checkpoint(\"final_model.ckpt\")\n"
   ]
  },
  {
   "cell_type": "code",
   "execution_count": null,
   "metadata": {},
   "outputs": [],
   "source": [
    "best_model = LSTMbyHand.load_from_checkpoint(\"final_model.ckpt\")\n",
    "best_model.eval()  # Set to evaluation mode\n"
   ]
  },
  {
   "cell_type": "code",
   "execution_count": 51,
   "metadata": {},
   "outputs": [],
   "source": [
    "class LightningLSTM(L.LightningModule):\n",
    "    def __init__(self):\n",
    "        super().__init__()\n",
    "        self.lstm = nn.LSTM(input_size=1, hidden_size=3)\n",
    "        self.fc = nn.Linear(3, 1)\n",
    "        \n",
    "    def forward(self,input):\n",
    "        input_tensor = input.view(1, -1, 1)\n",
    "        lstm_out, temp= self.lstm(input_tensor)\n",
    "\n",
    "        prediction=lstm_out[:,-1,:]\n",
    "        prediction= self.fc(prediction)\n",
    "        return prediction\n",
    "    \n",
    "    def configure_optimizers(self):\n",
    "        return optim.Adam(self.parameters(), lr=0.01)\n",
    "    \n",
    "    def training_step(self, batch, batch_idx):\n",
    "        input_i, label_i = batch\n",
    "        output_i= self.forward(input_i[0])\n",
    "        loss = F.mse_loss(output_i, label_i)\n",
    "        '''\n",
    "        self.log('train_loss', loss)\n",
    "\n",
    "        if label_i==0:\n",
    "            self.log(\"out_0\", output_i)\n",
    "        else:\n",
    "            self.log(\"out_1\", output_i)'''\n",
    "        return loss"
   ]
  },
  {
   "cell_type": "code",
   "execution_count": 39,
   "metadata": {},
   "outputs": [
    {
     "name": "stdout",
     "output_type": "stream",
     "text": [
      "torch.Size([1, 4, 1])\n"
     ]
    }
   ],
   "source": [
    "# Original tensor\n",
    "input_tensor = torch.tensor([0., 0.5, 0.25, 1.])\n",
    "\n",
    "# Reshaping to (batch_size, seq_len, input_size)\n",
    "input_tensor = input_tensor.view(1, -1, 1)  # (1, 4, 1)\n",
    "\n",
    "print(input_tensor.shape)  # Output: torch.Size([1, 4, 1])"
   ]
  },
  {
   "cell_type": "code",
   "execution_count": 52,
   "metadata": {},
   "outputs": [
    {
     "name": "stdout",
     "output_type": "stream",
     "text": [
      "tensor([[0.2727]])\n"
     ]
    }
   ],
   "source": [
    "model= LightningLSTM()\n",
    "output=model(torch.tensor([0.,0.5,0.25, 1.]))\n",
    "print(output.detach())"
   ]
  },
  {
   "cell_type": "code",
   "execution_count": 59,
   "metadata": {},
   "outputs": [
    {
     "name": "stderr",
     "output_type": "stream",
     "text": [
      "GPU available: False, used: False\n",
      "TPU available: False, using: 0 TPU cores\n",
      "HPU available: False, using: 0 HPUs\n",
      "\n",
      "  | Name | Type   | Params | Mode \n",
      "----------------------------------------\n",
      "0 | lstm | LSTM   | 72     | train\n",
      "1 | fc   | Linear | 4      | train\n",
      "----------------------------------------\n",
      "76        Trainable params\n",
      "0         Non-trainable params\n",
      "76        Total params\n",
      "0.000     Total estimated model params size (MB)\n",
      "2         Modules in train mode\n",
      "0         Modules in eval mode\n",
      "c:\\Users\\Sanjana Rayarala\\AppData\\Local\\Programs\\Python\\Python310\\lib\\site-packages\\lightning\\pytorch\\trainer\\connectors\\data_connector.py:425: The 'train_dataloader' does not have many workers which may be a bottleneck. Consider increasing the value of the `num_workers` argument` to `num_workers=11` in the `DataLoader` to improve performance.\n"
     ]
    },
    {
     "data": {
      "application/vnd.jupyter.widget-view+json": {
       "model_id": "21d923d47a8646e4b0ff3a16eeeb1825",
       "version_major": 2,
       "version_minor": 0
      },
      "text/plain": [
       "Training: |          | 0/? [00:00<?, ?it/s]"
      ]
     },
     "metadata": {},
     "output_type": "display_data"
    },
    {
     "name": "stderr",
     "output_type": "stream",
     "text": [
      "C:\\Users\\Sanjana Rayarala\\AppData\\Local\\Temp\\ipykernel_5868\\261094603.py:21: UserWarning: Using a target size (torch.Size([1])) that is different to the input size (torch.Size([1, 1])). This will likely lead to incorrect results due to broadcasting. Please ensure they have the same size.\n",
      "  loss = F.mse_loss(output_i, label_i)\n",
      "`Trainer.fit` stopped: `max_epochs=5000` reached.\n"
     ]
    }
   ],
   "source": [
    "trainer= L.Trainer(max_epochs=5000, log_every_n_steps=2)\n",
    "trainer.fit(model, train_dataloaders=dataloader)"
   ]
  },
  {
   "cell_type": "code",
   "execution_count": 56,
   "metadata": {},
   "outputs": [],
   "source": [
    "path_to_best_checkpoint= trainer.checkpoint_callback.best_model_path\n",
    "# Load the best model checkpoint\n",
    "best_model =LightningLSTM.load_from_checkpoint(path_to_best_checkpoint)\n",
    "best_model.eval()  # Set the model to evaluation mode\n",
    "# Input tensor (1 sample, sequence length = 4)\n",
    "input_data = torch.tensor([1., 0.5, 0.25, 1.])\n",
    "\n",
    "# Ensure the model is on the same device as the input\n",
    "device = torch.device(\"cuda\" if torch.cuda.is_available() else \"cpu\")\n",
    "best_model.to(device)\n",
    "input_data = input_data.to(device)\n",
    "with torch.no_grad():\n",
    "    prediction = best_model(input_data)"
   ]
  },
  {
   "cell_type": "code",
   "execution_count": 57,
   "metadata": {},
   "outputs": [
    {
     "data": {
      "text/plain": [
       "tensor([[0.5002]])"
      ]
     },
     "execution_count": 57,
     "metadata": {},
     "output_type": "execute_result"
    }
   ],
   "source": [
    "prediction"
   ]
  },
  {
   "cell_type": "code",
   "execution_count": 58,
   "metadata": {},
   "outputs": [
    {
     "data": {
      "text/plain": [
       "'c:\\\\ML\\\\NN_from_scratch\\\\lstm\\\\lightning_logs\\\\version_9\\\\checkpoints\\\\epoch=999-step=2000.ckpt'"
      ]
     },
     "execution_count": 58,
     "metadata": {},
     "output_type": "execute_result"
    }
   ],
   "source": [
    "path_to_best_checkpoint"
   ]
  }
 ],
 "metadata": {
  "kernelspec": {
   "display_name": "Python 3",
   "language": "python",
   "name": "python3"
  },
  "language_info": {
   "codemirror_mode": {
    "name": "ipython",
    "version": 3
   },
   "file_extension": ".py",
   "mimetype": "text/x-python",
   "name": "python",
   "nbconvert_exporter": "python",
   "pygments_lexer": "ipython3",
   "version": "3.10.5"
  }
 },
 "nbformat": 4,
 "nbformat_minor": 2
}
