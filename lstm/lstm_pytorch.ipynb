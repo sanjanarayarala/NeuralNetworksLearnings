{
 "cells": [
  {
   "cell_type": "code",
   "execution_count": 1,
   "metadata": {},
   "outputs": [],
   "source": [
    "import torch\n",
    "import torch.nn as nn\n",
    "import torch.optim as optim\n",
    "import numpy as np"
   ]
  },
  {
   "cell_type": "code",
   "execution_count": 2,
   "metadata": {},
   "outputs": [],
   "source": [
    "class LSTMModel(nn.Module):\n",
    "    def __init__(self, input_size, hidden_size, num_layers, output_size):\n",
    "        super(LSTMModel, self).__init__()\n",
    "        self.hidden_size = hidden_size\n",
    "        self.num_layers = num_layers\n",
    "        \n",
    "        # LSTM Layer\n",
    "        self.lstm = nn.LSTM(input_size, hidden_size, num_layers, batch_first=True)\n",
    "        \n",
    "        # Fully Connected Layer (Output Layer)\n",
    "        self.fc = nn.Linear(hidden_size, output_size)\n",
    "\n",
    "    def forward(self, x):\n",
    "        # Initialize hidden state and cell state\n",
    "        h0 = torch.zeros(self.num_layers, x.size(0), self.hidden_size).to(x.device)\n",
    "        c0 = torch.zeros(self.num_layers, x.size(0), self.hidden_size).to(x.device)\n",
    "\n",
    "        # Forward propagate LSTM\n",
    "        out, _ = self.lstm(x, (h0, c0))  # out: (batch_size, seq_length, hidden_size)\n",
    "\n",
    "        # Take the last time step's output\n",
    "        out = self.fc(out[:, -1, :])  # Shape: (batch_size, output_size)\n",
    "        \n",
    "        return out\n"
   ]
  },
  {
   "cell_type": "code",
   "execution_count": 3,
   "metadata": {},
   "outputs": [],
   "source": [
    "# Generate synthetic sequential data for regression\n",
    "np.random.seed(42)\n",
    "torch.manual_seed(42)\n",
    "\n",
    "# Create dummy time-series data\n",
    "def generate_data(seq_length=10, num_samples=100):\n",
    "    X = np.array([np.arange(i, i+seq_length) for i in range(num_samples)])\n",
    "    y = np.sum(X, axis=1)  # Example: sum of the sequence as target\n",
    "    return torch.tensor(X, dtype=torch.float32).unsqueeze(-1), torch.tensor(y, dtype=torch.float32).unsqueeze(-1)\n",
    "\n",
    "# Prepare dataset\n",
    "seq_length = 10\n",
    "X, y = generate_data(seq_length=seq_length, num_samples=1000)\n",
    "\n",
    "# Split into train and test sets\n",
    "train_size = int(0.8 * len(X))\n",
    "X_train, y_train = X[:train_size], y[:train_size]\n",
    "X_test, y_test = X[train_size:], y[train_size:]\n"
   ]
  },
  {
   "cell_type": "code",
   "execution_count": 17,
   "metadata": {},
   "outputs": [
    {
     "name": "stdout",
     "output_type": "stream",
     "text": [
      "Epoch [10/500], Loss: 21598604.0000\n",
      "Epoch [20/500], Loss: 21532242.0000\n",
      "Epoch [30/500], Loss: 21465208.0000\n",
      "Epoch [40/500], Loss: 21398420.0000\n",
      "Epoch [50/500], Loss: 21332180.0000\n",
      "Epoch [60/500], Loss: 21266502.0000\n",
      "Epoch [70/500], Loss: 21201308.0000\n",
      "Epoch [80/500], Loss: 21136546.0000\n",
      "Epoch [90/500], Loss: 21072158.0000\n",
      "Epoch [100/500], Loss: 21008104.0000\n",
      "Epoch [110/500], Loss: 20944360.0000\n",
      "Epoch [120/500], Loss: 20880902.0000\n",
      "Epoch [130/500], Loss: 20817716.0000\n",
      "Epoch [140/500], Loss: 20754780.0000\n",
      "Epoch [150/500], Loss: 20692092.0000\n",
      "Epoch [160/500], Loss: 20629642.0000\n",
      "Epoch [170/500], Loss: 20567422.0000\n",
      "Epoch [180/500], Loss: 20505426.0000\n",
      "Epoch [190/500], Loss: 20443648.0000\n",
      "Epoch [200/500], Loss: 20382088.0000\n",
      "Epoch [210/500], Loss: 20320738.0000\n",
      "Epoch [220/500], Loss: 20259592.0000\n",
      "Epoch [230/500], Loss: 20198656.0000\n",
      "Epoch [240/500], Loss: 20137922.0000\n",
      "Epoch [250/500], Loss: 20077388.0000\n",
      "Epoch [260/500], Loss: 20017050.0000\n",
      "Epoch [270/500], Loss: 19956910.0000\n",
      "Epoch [280/500], Loss: 19896966.0000\n",
      "Epoch [290/500], Loss: 19837214.0000\n",
      "Epoch [300/500], Loss: 19777654.0000\n",
      "Epoch [310/500], Loss: 19718284.0000\n",
      "Epoch [320/500], Loss: 19659102.0000\n",
      "Epoch [330/500], Loss: 19600110.0000\n",
      "Epoch [340/500], Loss: 19541304.0000\n",
      "Epoch [350/500], Loss: 19482684.0000\n",
      "Epoch [360/500], Loss: 19424248.0000\n",
      "Epoch [370/500], Loss: 19365994.0000\n",
      "Epoch [380/500], Loss: 19307922.0000\n",
      "Epoch [390/500], Loss: 19250034.0000\n",
      "Epoch [400/500], Loss: 19192328.0000\n",
      "Epoch [410/500], Loss: 19134798.0000\n",
      "Epoch [420/500], Loss: 19077450.0000\n",
      "Epoch [430/500], Loss: 19020278.0000\n",
      "Epoch [440/500], Loss: 18963286.0000\n",
      "Epoch [450/500], Loss: 18906470.0000\n",
      "Epoch [460/500], Loss: 18849830.0000\n",
      "Epoch [470/500], Loss: 18793368.0000\n",
      "Epoch [480/500], Loss: 18737076.0000\n",
      "Epoch [490/500], Loss: 18680964.0000\n",
      "Epoch [500/500], Loss: 18625020.0000\n"
     ]
    }
   ],
   "source": [
    "# Model Hyperparameters\n",
    "input_size = 1\n",
    "hidden_size = 10\n",
    "num_layers = 2\n",
    "output_size = 1\n",
    "learning_rate = 0.1\n",
    "num_epochs = 500\n",
    "\n",
    "# Initialize Model\n",
    "device = torch.device(\"cuda\" if torch.cuda.is_available() else \"cpu\")\n",
    "model = LSTMModel(input_size, hidden_size, num_layers, output_size).to(device)\n",
    "\n",
    "# Loss and Optimizer\n",
    "criterion = nn.MSELoss()\n",
    "optimizer = optim.Adam(model.parameters(), lr=learning_rate)\n",
    "\n",
    "# Move data to device\n",
    "X_train, y_train, X_test, y_test = X_train.to(device), y_train.to(device), X_test.to(device), y_test.to(device)\n",
    "\n",
    "# Training Loop\n",
    "for epoch in range(num_epochs):\n",
    "    model.train()\n",
    "    \n",
    "    # Forward pass\n",
    "    outputs = model(X_train)\n",
    "    loss = criterion(outputs, y_train)\n",
    "\n",
    "    # Backward pass\n",
    "    optimizer.zero_grad()\n",
    "    loss.backward()\n",
    "    optimizer.step()\n",
    "\n",
    "    # Print loss every 10 epochs\n",
    "    if (epoch+1) % 10 == 0:\n",
    "        print(f'Epoch [{epoch+1}/{num_epochs}], Loss: {loss.item():.4f}')\n"
   ]
  },
  {
   "cell_type": "code",
   "execution_count": 18,
   "metadata": {},
   "outputs": [
    {
     "name": "stdout",
     "output_type": "stream",
     "text": [
      "Test Loss: 75069544.0000\n"
     ]
    }
   ],
   "source": [
    "model.eval()\n",
    "with torch.no_grad():\n",
    "    predictions = model(X_test)\n",
    "    test_loss = criterion(predictions, y_test)\n",
    "\n",
    "print(f'Test Loss: {test_loss.item():.4f}')\n"
   ]
  },
  {
   "cell_type": "markdown",
   "metadata": {},
   "source": [
    "Just for understanding how LSTM works!!"
   ]
  }
 ],
 "metadata": {
  "kernelspec": {
   "display_name": "Python 3",
   "language": "python",
   "name": "python3"
  },
  "language_info": {
   "codemirror_mode": {
    "name": "ipython",
    "version": 3
   },
   "file_extension": ".py",
   "mimetype": "text/x-python",
   "name": "python",
   "nbconvert_exporter": "python",
   "pygments_lexer": "ipython3",
   "version": "3.10.5"
  }
 },
 "nbformat": 4,
 "nbformat_minor": 2
}
