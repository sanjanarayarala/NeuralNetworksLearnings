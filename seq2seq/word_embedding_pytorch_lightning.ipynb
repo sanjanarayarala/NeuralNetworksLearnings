{
 "cells": [
  {
   "cell_type": "code",
   "execution_count": 1,
   "metadata": {},
   "outputs": [
    {
     "name": "stderr",
     "output_type": "stream",
     "text": [
      "c:\\Users\\Sanjana Rayarala\\AppData\\Local\\Programs\\Python\\Python310\\lib\\site-packages\\torch\\utils\\_pytree.py:185: FutureWarning: optree is installed but the version is too old to support PyTorch Dynamo in C++ pytree. C++ pytree support is disabled. Please consider upgrading optree using `python3 -m pip install --upgrade 'optree>=0.13.0'`.\n",
      "  warnings.warn(\n"
     ]
    }
   ],
   "source": [
    "import torch\n",
    "import torch.nn as nn\n",
    "\n",
    "from torch.optim import Adam"
   ]
  },
  {
   "cell_type": "code",
   "execution_count": 3,
   "metadata": {},
   "outputs": [],
   "source": [
    "from torch.distributions.uniform import Uniform\n",
    "from torch.utils.data import TensorDataset, DataLoader"
   ]
  },
  {
   "cell_type": "code",
   "execution_count": 4,
   "metadata": {},
   "outputs": [],
   "source": [
    "import lightning as L"
   ]
  },
  {
   "cell_type": "code",
   "execution_count": 5,
   "metadata": {},
   "outputs": [],
   "source": [
    "import pandas as pd\n",
    "import matplotlib.pyplot as plt\n",
    "import seaborn as sns"
   ]
  },
  {
   "cell_type": "markdown",
   "metadata": {},
   "source": [
    "Let's create embeddings for 2 simple sentences\n",
    "- Troll2 is great!\n",
    "- Gymkata is great!"
   ]
  },
  {
   "cell_type": "markdown",
   "metadata": {},
   "source": [
    "Use one hot encoding for each input word\n",
    "\n",
    "\n",
    "\n",
    "Troll2 [1.,0.,0.,0.]\n",
    "\n",
    "is [0.,1.,0.,0.]\n",
    "\n",
    "great! [0.,0.,1.,0.]\n",
    "\n",
    "Gymkata [0.,0.,0.,1.]\n",
    "\n",
    "\n",
    "\n",
    "inputs= torch.tensor([[1.,0.,0.,0.],\n",
    "\n",
    "[0.,1.,0.,0.],\n",
    "\n",
    "[0.,0.,1.,0.],\n",
    "\n",
    "[0.,0.,0.,1.]])\n",
    "\n",
    "\n",
    "\n",
    "\n",
    "labels= torch.tensor([[0.,1.,0.,0.] #troll2 predicts is\n",
    "\n",
    "[0.,0.,1.,0.] #is predicts great\n",
    "\n",
    "[0.,0.,0.,1.] #let's pretend it(great) predicts gymkata\n",
    "\n",
    "[0.,1.,0.,0.]]) #gymkata predicts is"
   ]
  },
  {
   "cell_type": "code",
   "execution_count": 7,
   "metadata": {},
   "outputs": [],
   "source": [
    "inputs= torch.tensor([[1.,0.,0.,0.],\n",
    "[0.,1.,0.,0.],\n",
    "[0.,0.,1.,0.],\n",
    "[0.,0.,0.,1.]])\n",
    "\n",
    "labels= torch.tensor([[0.,1.,0.,0.], #troll2 predicts is\n",
    "[0.,0.,1.,0.], #is predicts great\n",
    "[0.,0.,0.,1.], #let's pretend it(great) predicts gymkata\n",
    "[0.,1.,0.,0.]]) #gymkata predicts is\n",
    "\n",
    "\n",
    "dataset =TensorDataset(inputs,labels)\n",
    "dataloader= DataLoader(dataset)"
   ]
  },
  {
   "cell_type": "code",
   "execution_count": 16,
   "metadata": {},
   "outputs": [],
   "source": [
    "class WordEmbeddingFromScratch(L.LightningModule):\n",
    "    def __init__(self):\n",
    "        super().__init__()\n",
    "        min_val= -0.5\n",
    "        max_val= 0.5\n",
    "\n",
    "        self.input1_w1= nn.Parameter(Uniform(min_val, max_val).sample())\n",
    "        self.input1_w2= nn.Parameter(Uniform(min_val, max_val).sample())\n",
    "        self.input2_w1= nn.Parameter(Uniform(min_val, max_val).sample())\n",
    "        self.input2_w2= nn.Parameter(Uniform(min_val, max_val).sample())\n",
    "        self.input3_w1= nn.Parameter(Uniform(min_val, max_val).sample())\n",
    "        self.input3_w2= nn.Parameter(Uniform(min_val, max_val).sample())\n",
    "        self.input4_w1= nn.Parameter(Uniform(min_val, max_val).sample())\n",
    "        self.input4_w2= nn.Parameter(Uniform(min_val, max_val).sample())\n",
    "\n",
    "        self.output1_w1= nn.Parameter(Uniform(min_val, max_val).sample())\n",
    "        self.output1_w2= nn.Parameter(Uniform(min_val, max_val).sample())\n",
    "        self.output2_w1= nn.Parameter(Uniform(min_val, max_val).sample())\n",
    "        self.output2_w2= nn.Parameter(Uniform(min_val, max_val).sample())\n",
    "        self.output3_w1= nn.Parameter(Uniform(min_val, max_val).sample())\n",
    "        self.output3_w2= nn.Parameter(Uniform(min_val, max_val).sample())\n",
    "        self.output4_w1= nn.Parameter(Uniform(min_val, max_val).sample())\n",
    "        self.output4_w2= nn.Parameter(Uniform(min_val, max_val).sample())\n",
    "\n",
    "        self.loss=nn.CrossEntropyLoss()\n",
    "\n",
    "    def forward(self, input):\n",
    "        input= input[0]\n",
    "        inputs_to_top_hidden = ((input[0]* self.input1_w1)+\n",
    "                                (input[1]* self.input2_w1)+\n",
    "                                (input[2]* self.input3_w1)+\n",
    "                                (input[3]* self.input4_w1)\n",
    "        )\n",
    "\n",
    "        inputs_to_bottom_hidden = ((input[0]* self.input1_w2)+\n",
    "                                (input[1]* self.input2_w2)+\n",
    "                                (input[2]* self.input3_w2)+\n",
    "                                (input[3]* self.input4_w2)\n",
    "        )\n",
    "\n",
    "        output1= ((inputs_to_top_hidden * self.output1_w1)+\n",
    "          (inputs_to_bottom_hidden * self.output1_w2))\n",
    "        \n",
    "        output2= ((inputs_to_top_hidden * self.output2_w1)+\n",
    "                  (inputs_to_bottom_hidden * self.output2_w2))\n",
    "        \n",
    "        output3= ((inputs_to_top_hidden* self.output3_w1)+\n",
    "                  (inputs_to_bottom_hidden * self.output3_w2))\n",
    "        \n",
    "        output4= ((inputs_to_top_hidden * self.output4_w1)+\n",
    "                  (inputs_to_bottom_hidden * self.output4_w2))\n",
    "        \n",
    "        output_presoftmax= torch.stack([output1, output2, output3, output4]) #returns list that preserves gradients\n",
    "        return output_presoftmax\n",
    "\n",
    "\n",
    "\n",
    "    def configure_optimizers(self):\n",
    "        return Adam(self.parameters(), lr=0.1)\n",
    "    \n",
    "    def training_step(self, batch,batch_idx):\n",
    "        input_i, label_i= batch\n",
    "        output_i= self.forward(input_i)\n",
    "        loss= self.loss(output_i, label_i[0]) \n",
    "        return loss"
   ]
  },
  {
   "cell_type": "code",
   "execution_count": 17,
   "metadata": {},
   "outputs": [
    {
     "name": "stdout",
     "output_type": "stream",
     "text": [
      "input1_w1 tensor(0.0545)\n",
      "input1_w2 tensor(0.1691)\n",
      "input2_w1 tensor(-0.3821)\n",
      "input2_w2 tensor(0.0077)\n",
      "input3_w1 tensor(-0.3895)\n",
      "input3_w2 tensor(0.0039)\n",
      "input4_w1 tensor(-0.3993)\n",
      "input4_w2 tensor(-0.0841)\n",
      "output1_w1 tensor(0.1147)\n",
      "output1_w2 tensor(0.2444)\n",
      "output2_w1 tensor(-0.3038)\n",
      "output2_w2 tensor(-0.3879)\n",
      "output3_w1 tensor(-0.4239)\n",
      "output3_w2 tensor(0.2928)\n",
      "output4_w1 tensor(0.2645)\n",
      "output4_w2 tensor(0.3322)\n"
     ]
    }
   ],
   "source": [
    "modelFromScratch= WordEmbeddingFromScratch()\n",
    "\n",
    "for name, param in modelFromScratch.named_parameters():\n",
    "    print(name, param.data)"
   ]
  },
  {
   "cell_type": "markdown",
   "metadata": {},
   "source": [
    "Representing these weights in Dataframe"
   ]
  },
  {
   "cell_type": "code",
   "execution_count": 18,
   "metadata": {},
   "outputs": [
    {
     "data": {
      "text/html": [
       "<div>\n",
       "<style scoped>\n",
       "    .dataframe tbody tr th:only-of-type {\n",
       "        vertical-align: middle;\n",
       "    }\n",
       "\n",
       "    .dataframe tbody tr th {\n",
       "        vertical-align: top;\n",
       "    }\n",
       "\n",
       "    .dataframe thead th {\n",
       "        text-align: right;\n",
       "    }\n",
       "</style>\n",
       "<table border=\"1\" class=\"dataframe\">\n",
       "  <thead>\n",
       "    <tr style=\"text-align: right;\">\n",
       "      <th></th>\n",
       "      <th>w1</th>\n",
       "      <th>w2</th>\n",
       "      <th>token</th>\n",
       "      <th>input</th>\n",
       "    </tr>\n",
       "  </thead>\n",
       "  <tbody>\n",
       "    <tr>\n",
       "      <th>0</th>\n",
       "      <td>0.054476</td>\n",
       "      <td>0.169133</td>\n",
       "      <td>Troll2</td>\n",
       "      <td>input1</td>\n",
       "    </tr>\n",
       "    <tr>\n",
       "      <th>1</th>\n",
       "      <td>-0.382136</td>\n",
       "      <td>0.007676</td>\n",
       "      <td>is</td>\n",
       "      <td>input2</td>\n",
       "    </tr>\n",
       "    <tr>\n",
       "      <th>2</th>\n",
       "      <td>-0.389508</td>\n",
       "      <td>0.003867</td>\n",
       "      <td>great</td>\n",
       "      <td>input3</td>\n",
       "    </tr>\n",
       "    <tr>\n",
       "      <th>3</th>\n",
       "      <td>-0.399333</td>\n",
       "      <td>-0.084088</td>\n",
       "      <td>Gymkata</td>\n",
       "      <td>input4</td>\n",
       "    </tr>\n",
       "  </tbody>\n",
       "</table>\n",
       "</div>"
      ],
      "text/plain": [
       "         w1        w2    token   input\n",
       "0  0.054476  0.169133   Troll2  input1\n",
       "1 -0.382136  0.007676       is  input2\n",
       "2 -0.389508  0.003867    great  input3\n",
       "3 -0.399333 -0.084088  Gymkata  input4"
      ]
     },
     "execution_count": 18,
     "metadata": {},
     "output_type": "execute_result"
    }
   ],
   "source": [
    "data = {\n",
    "    \"w1\": [modelFromScratch.input1_w1.item(),\n",
    "           modelFromScratch.input2_w1.item(),\n",
    "           modelFromScratch.input3_w1.item(),\n",
    "           modelFromScratch.input4_w1.item()],\n",
    "    \"w2\": [modelFromScratch.input1_w2.item(),\n",
    "           modelFromScratch.input2_w2.item(),\n",
    "           modelFromScratch.input3_w2.item(),\n",
    "           modelFromScratch.input4_w2.item()],\n",
    "    \"token\": [\"Troll2\", \"is\", \"great\", \"Gymkata\"],\n",
    "    \"input\": [\"input1\", \"input2\", \"input3\", \"input4\"],\n",
    "\n",
    "}\n",
    "\n",
    "df= pd.DataFrame(data)\n",
    "df"
   ]
  },
  {
   "cell_type": "markdown",
   "metadata": {},
   "source": [
    "Troll2 and gymkata though similar, have very different weights"
   ]
  },
  {
   "cell_type": "code",
   "execution_count": null,
   "metadata": {},
   "outputs": [
    {
     "data": {
      "image/png": "[encoded data removed]",
      "text/plain": [
       "<Figure size 640x480 with 1 Axes>"
      ]
     },
     "metadata": {},
     "output_type": "display_data"
    }
   ],
   "source": [
    "sns.scatterplot(data=df, x=\"w1\", y=\"w2\")\n",
    "plt.text(df.w1[0], df.w2[0], df.token[0], \n",
    "         horizontalalignment='left',\n",
    "         size='medium',\n",
    "         color='black',\n",
    "         weight='semibold')\n",
    "plt.text(df.w1[1], df.w2[1], df.token[1], \n",
    "         horizontalalignment='left',\n",
    "         size='medium',\n",
    "         color='black',\n",
    "         weight='semibold')\n",
    "plt.text(df.w1[2], df.w2[2], df.token[2], \n",
    "         horizontalalignment='left',\n",
    "         size='medium',\n",
    "         color='black',\n",
    "         weight='semibold')\n",
    "plt.text(df.w1[3], df.w2[3], df.token[3], \n",
    "         horizontalalignment='left',\n",
    "         size='medium',\n",
    "         color='black',\n",
    "         weight='semibold')\n",
    "plt.show()"
   ]
  },
  {
   "cell_type": "markdown",
   "metadata": {},
   "source": [
    "So, let's train our embedding network"
   ]
  },
  {
   "cell_type": "code",
   "execution_count": 20,
   "metadata": {},
   "outputs": [
    {
     "name": "stderr",
     "output_type": "stream",
     "text": [
      "GPU available: False, used: False\n",
      "TPU available: False, using: 0 TPU cores\n",
      "HPU available: False, using: 0 HPUs\n",
      "\n",
      "  | Name         | Type             | Params | Mode \n",
      "----------------------------------------------------------\n",
      "0 | loss         | CrossEntropyLoss | 0      | train\n",
      "  | other params | n/a              | 16     | n/a  \n",
      "----------------------------------------------------------\n",
      "16        Trainable params\n",
      "0         Non-trainable params\n",
      "16        Total params\n",
      "0.000     Total estimated model params size (MB)\n",
      "1         Modules in train mode\n",
      "0         Modules in eval mode\n",
      "c:\\Users\\Sanjana Rayarala\\AppData\\Local\\Programs\\Python\\Python310\\lib\\site-packages\\lightning\\pytorch\\trainer\\connectors\\data_connector.py:425: The 'train_dataloader' does not have many workers which may be a bottleneck. Consider increasing the value of the `num_workers` argument` to `num_workers=11` in the `DataLoader` to improve performance.\n",
      "c:\\Users\\Sanjana Rayarala\\AppData\\Local\\Programs\\Python\\Python310\\lib\\site-packages\\lightning\\pytorch\\loops\\fit_loop.py:310: The number of training batches (4) is smaller than the logging interval Trainer(log_every_n_steps=50). Set a lower value for log_every_n_steps if you want to see logs for the training epoch.\n"
     ]
    },
    {
     "data": {
      "application/vnd.jupyter.widget-view+json": {
       "model_id": "b861d10151c84187a681a7cb8d636ea7",
       "version_major": 2,
       "version_minor": 0
      },
      "text/plain": [
       "Training: |          | 0/? [00:00<?, ?it/s]"
      ]
     },
     "metadata": {},
     "output_type": "display_data"
    },
    {
     "name": "stderr",
     "output_type": "stream",
     "text": [
      "`Trainer.fit` stopped: `max_epochs=100` reached.\n"
     ]
    }
   ],
   "source": [
    "trainer= L.Trainer(max_epochs=100)\n",
    "trainer.fit(modelFromScratch, train_dataloaders=dataloader)"
   ]
  },
  {
   "cell_type": "code",
   "execution_count": 21,
   "metadata": {},
   "outputs": [],
   "source": [
    "softmax= nn.Softmax(dim=0)"
   ]
  },
  {
   "cell_type": "code",
   "execution_count": 23,
   "metadata": {},
   "outputs": [
    {
     "name": "stdout",
     "output_type": "stream",
     "text": [
      "tensor([0., 1., 0., 0.], grad_fn=<RoundBackward1>)\n"
     ]
    }
   ],
   "source": [
    "print(torch.round(softmax(modelFromScratch(torch.tensor([[1., 0., 0., 0.]]))), decimals=2))"
   ]
  },
  {
   "cell_type": "markdown",
   "metadata": {},
   "source": [
    "Input 'Troll2' gave output 'is'"
   ]
  },
  {
   "cell_type": "code",
   "execution_count": 24,
   "metadata": {},
   "outputs": [
    {
     "name": "stdout",
     "output_type": "stream",
     "text": [
      "tensor([0., 0., 1., 0.], grad_fn=<RoundBackward1>)\n"
     ]
    }
   ],
   "source": [
    "print(torch.round(softmax(modelFromScratch(torch.tensor([[0., 1., 0., 0.]]))), decimals=2))"
   ]
  },
  {
   "cell_type": "code",
   "execution_count": 25,
   "metadata": {},
   "outputs": [
    {
     "name": "stdout",
     "output_type": "stream",
     "text": [
      "tensor([0., 0., 0., 1.], grad_fn=<RoundBackward1>)\n"
     ]
    }
   ],
   "source": [
    "print(torch.round(softmax(modelFromScratch(torch.tensor([[0., 0., 1., 0.]]))), decimals=2))"
   ]
  },
  {
   "cell_type": "code",
   "execution_count": 26,
   "metadata": {},
   "outputs": [
    {
     "name": "stdout",
     "output_type": "stream",
     "text": [
      "tensor([0., 1., 0., 0.], grad_fn=<RoundBackward1>)\n"
     ]
    }
   ],
   "source": [
    "print(torch.round(softmax(modelFromScratch(torch.tensor([[0., 0., 0., 1.]]))), decimals=2))"
   ]
  },
  {
   "cell_type": "markdown",
   "metadata": {},
   "source": [
    "Now let's automate it!!"
   ]
  },
  {
   "cell_type": "code",
   "execution_count": 27,
   "metadata": {},
   "outputs": [],
   "source": [
    "class WordEmbeddingWithLinear(L.LightningModule):\n",
    "    def __init__(self):\n",
    "        super().__init__()\n",
    "\n",
    "        self.input_to_hidden= nn.Linear(4, 2, bias=False)\n",
    "        self.hidden_to_output = nn.Linear(2, 4, bias=False)\n",
    "\n",
    "        self.loss= nn.CrossEntropyLoss()\n",
    "\n",
    "    def forward(self,input):\n",
    "        hidden= self.input_to_hidden(input)\n",
    "        output= self.hidden_to_output(hidden)\n",
    "\n",
    "        return output\n",
    "    \n",
    "    def configure_optimizers(self):\n",
    "        return Adam(self.parameters(), lr=0.1)\n",
    "    \n",
    "    def training_step(self,batch, batch_idx):\n",
    "        input_i, label_i = batch\n",
    "        output_i = self.forward(input_i)\n",
    "        loss= self.loss(output_i, label_i)\n",
    "\n",
    "        return loss"
   ]
  },
  {
   "cell_type": "code",
   "execution_count": 28,
   "metadata": {},
   "outputs": [],
   "source": [
    "modelLinear= WordEmbeddingWithLinear()"
   ]
  },
  {
   "cell_type": "code",
   "execution_count": 29,
   "metadata": {},
   "outputs": [
    {
     "data": {
      "text/html": [
       "<div>\n",
       "<style scoped>\n",
       "    .dataframe tbody tr th:only-of-type {\n",
       "        vertical-align: middle;\n",
       "    }\n",
       "\n",
       "    .dataframe tbody tr th {\n",
       "        vertical-align: top;\n",
       "    }\n",
       "\n",
       "    .dataframe thead th {\n",
       "        text-align: right;\n",
       "    }\n",
       "</style>\n",
       "<table border=\"1\" class=\"dataframe\">\n",
       "  <thead>\n",
       "    <tr style=\"text-align: right;\">\n",
       "      <th></th>\n",
       "      <th>w1</th>\n",
       "      <th>w2</th>\n",
       "      <th>token</th>\n",
       "      <th>input</th>\n",
       "    </tr>\n",
       "  </thead>\n",
       "  <tbody>\n",
       "    <tr>\n",
       "      <th>0</th>\n",
       "      <td>0.454253</td>\n",
       "      <td>-0.486728</td>\n",
       "      <td>Troll2</td>\n",
       "      <td>input1</td>\n",
       "    </tr>\n",
       "    <tr>\n",
       "      <th>1</th>\n",
       "      <td>-0.463321</td>\n",
       "      <td>-0.103881</td>\n",
       "      <td>is</td>\n",
       "      <td>input2</td>\n",
       "    </tr>\n",
       "    <tr>\n",
       "      <th>2</th>\n",
       "      <td>0.205794</td>\n",
       "      <td>0.391405</td>\n",
       "      <td>great</td>\n",
       "      <td>input3</td>\n",
       "    </tr>\n",
       "    <tr>\n",
       "      <th>3</th>\n",
       "      <td>0.421914</td>\n",
       "      <td>-0.362085</td>\n",
       "      <td>Gymkata</td>\n",
       "      <td>input4</td>\n",
       "    </tr>\n",
       "  </tbody>\n",
       "</table>\n",
       "</div>"
      ],
      "text/plain": [
       "         w1        w2    token   input\n",
       "0  0.454253 -0.486728   Troll2  input1\n",
       "1 -0.463321 -0.103881       is  input2\n",
       "2  0.205794  0.391405    great  input3\n",
       "3  0.421914 -0.362085  Gymkata  input4"
      ]
     },
     "execution_count": 29,
     "metadata": {},
     "output_type": "execute_result"
    }
   ],
   "source": [
    "data = {\n",
    "    \"w1\": modelLinear.input_to_hidden.weight.detach()[0].numpy(),\n",
    "    \"w2\": modelLinear.input_to_hidden.weight.detach()[1].numpy(),\n",
    "    \"token\": [\"Troll2\", \"is\", \"great\", \"Gymkata\"],\n",
    "    \"input\": [\"input1\", \"input2\", \"input3\", \"input4\"],\n",
    "\n",
    "}\n",
    "\n",
    "df= pd.DataFrame(data)\n",
    "df"
   ]
  },
  {
   "cell_type": "code",
   "execution_count": 30,
   "metadata": {},
   "outputs": [
    {
     "data": {
      "image/png": "[encoded data removed]",
      "text/plain": [
       "<Figure size 640x480 with 1 Axes>"
      ]
     },
     "metadata": {},
     "output_type": "display_data"
    }
   ],
   "source": [
    "sns.scatterplot(data=df, x=\"w1\", y=\"w2\")\n",
    "plt.text(df.w1[0], df.w2[0], df.token[0], \n",
    "         horizontalalignment='left',\n",
    "         size='medium',\n",
    "         color='black',\n",
    "         weight='semibold')\n",
    "plt.text(df.w1[1], df.w2[1], df.token[1], \n",
    "         horizontalalignment='left',\n",
    "         size='medium',\n",
    "         color='black',\n",
    "         weight='semibold')\n",
    "plt.text(df.w1[2], df.w2[2], df.token[2], \n",
    "         horizontalalignment='left',\n",
    "         size='medium',\n",
    "         color='black',\n",
    "         weight='semibold')\n",
    "plt.text(df.w1[3], df.w2[3], df.token[3], \n",
    "         horizontalalignment='left',\n",
    "         size='medium',\n",
    "         color='black',\n",
    "         weight='semibold')\n",
    "plt.show()"
   ]
  },
  {
   "cell_type": "code",
   "execution_count": 32,
   "metadata": {},
   "outputs": [
    {
     "name": "stderr",
     "output_type": "stream",
     "text": [
      "GPU available: False, used: False\n",
      "TPU available: False, using: 0 TPU cores\n",
      "HPU available: False, using: 0 HPUs\n",
      "\n",
      "  | Name             | Type             | Params | Mode \n",
      "--------------------------------------------------------------\n",
      "0 | input_to_hidden  | Linear           | 8      | train\n",
      "1 | hidden_to_output | Linear           | 8      | train\n",
      "2 | loss             | CrossEntropyLoss | 0      | train\n",
      "--------------------------------------------------------------\n",
      "16        Trainable params\n",
      "0         Non-trainable params\n",
      "16        Total params\n",
      "0.000     Total estimated model params size (MB)\n",
      "3         Modules in train mode\n",
      "0         Modules in eval mode\n",
      "c:\\Users\\Sanjana Rayarala\\AppData\\Local\\Programs\\Python\\Python310\\lib\\site-packages\\lightning\\pytorch\\trainer\\connectors\\data_connector.py:425: The 'train_dataloader' does not have many workers which may be a bottleneck. Consider increasing the value of the `num_workers` argument` to `num_workers=11` in the `DataLoader` to improve performance.\n",
      "c:\\Users\\Sanjana Rayarala\\AppData\\Local\\Programs\\Python\\Python310\\lib\\site-packages\\lightning\\pytorch\\loops\\fit_loop.py:310: The number of training batches (4) is smaller than the logging interval Trainer(log_every_n_steps=50). Set a lower value for log_every_n_steps if you want to see logs for the training epoch.\n"
     ]
    },
    {
     "data": {
      "application/vnd.jupyter.widget-view+json": {
       "model_id": "cd50761a3ea043ad8c75d76fcbb1da3e",
       "version_major": 2,
       "version_minor": 0
      },
      "text/plain": [
       "Training: |          | 0/? [00:00<?, ?it/s]"
      ]
     },
     "metadata": {},
     "output_type": "display_data"
    },
    {
     "name": "stderr",
     "output_type": "stream",
     "text": [
      "`Trainer.fit` stopped: `max_epochs=100` reached.\n"
     ]
    }
   ],
   "source": [
    "trainer= L.Trainer(max_epochs=100)\n",
    "trainer.fit(modelLinear, train_dataloaders= dataloader)"
   ]
  },
  {
   "cell_type": "code",
   "execution_count": null,
   "metadata": {},
   "outputs": [
    {
     "data": {
      "text/html": [
       "<div>\n",
       "<style scoped>\n",
       "    .dataframe tbody tr th:only-of-type {\n",
       "        vertical-align: middle;\n",
       "    }\n",
       "\n",
       "    .dataframe tbody tr th {\n",
       "        vertical-align: top;\n",
       "    }\n",
       "\n",
       "    .dataframe thead th {\n",
       "        text-align: right;\n",
       "    }\n",
       "</style>\n",
       "<table border=\"1\" class=\"dataframe\">\n",
       "  <thead>\n",
       "    <tr style=\"text-align: right;\">\n",
       "      <th></th>\n",
       "      <th>w1</th>\n",
       "      <th>w2</th>\n",
       "      <th>token</th>\n",
       "      <th>input</th>\n",
       "    </tr>\n",
       "  </thead>\n",
       "  <tbody>\n",
       "    <tr>\n",
       "      <th>0</th>\n",
       "      <td>1.935485</td>\n",
       "      <td>-1.982240</td>\n",
       "      <td>Troll2</td>\n",
       "      <td>input1</td>\n",
       "    </tr>\n",
       "    <tr>\n",
       "      <th>1</th>\n",
       "      <td>-2.361642</td>\n",
       "      <td>1.329638</td>\n",
       "      <td>is</td>\n",
       "      <td>input2</td>\n",
       "    </tr>\n",
       "    <tr>\n",
       "      <th>2</th>\n",
       "      <td>1.861463</td>\n",
       "      <td>1.853266</td>\n",
       "      <td>great</td>\n",
       "      <td>input3</td>\n",
       "    </tr>\n",
       "    <tr>\n",
       "      <th>3</th>\n",
       "      <td>1.808075</td>\n",
       "      <td>-1.860664</td>\n",
       "      <td>Gymkata</td>\n",
       "      <td>input4</td>\n",
       "    </tr>\n",
       "  </tbody>\n",
       "</table>\n",
       "</div>"
      ],
      "text/plain": [
       "         w1        w2    token   input\n",
       "0  1.935485 -1.982240   Troll2  input1\n",
       "1 -2.361642  1.329638       is  input2\n",
       "2  1.861463  1.853266    great  input3\n",
       "3  1.808075 -1.860664  Gymkata  input4"
      ]
     },
     "execution_count": 33,
     "metadata": {},
     "output_type": "execute_result"
    }
   ],
   "source": [
    "data = {\n",
    "    \"w1\": modelLinear.input_to_hidden.weight.detach()[0].numpy(),\n",
    "    \"w2\": modelLinear.input_to_hidden.weight.detach()[1].numpy(),\n",
    "    \"token\": [\"Troll2\", \"is\", \"great\", \"Gymkata\"],\n",
    "    \"input\": [\"input1\", \"input2\", \"input3\", \"input4\"],\n",
    "}\n",
    "\n",
    "df= pd.DataFrame(data)\n",
    "df"
   ]
  },
  {
   "cell_type": "code",
   "execution_count": 34,
   "metadata": {},
   "outputs": [
    {
     "data": {
      "image/png": "[encoded data removed]",
      "text/plain": [
       "<Figure size 640x480 with 1 Axes>"
      ]
     },
     "metadata": {},
     "output_type": "display_data"
    }
   ],
   "source": [
    "sns.scatterplot(data=df, x=\"w1\", y=\"w2\")\n",
    "plt.text(df.w1[0], df.w2[0], df.token[0], \n",
    "         horizontalalignment='left',\n",
    "         size='medium',\n",
    "         color='black',\n",
    "         weight='semibold')\n",
    "plt.text(df.w1[1], df.w2[1], df.token[1], \n",
    "         horizontalalignment='left',\n",
    "         size='medium',\n",
    "         color='black',\n",
    "         weight='semibold')\n",
    "plt.text(df.w1[2], df.w2[2], df.token[2], \n",
    "         horizontalalignment='left',\n",
    "         size='medium',\n",
    "         color='black',\n",
    "         weight='semibold')\n",
    "plt.text(df.w1[3], df.w2[3], df.token[3], \n",
    "         horizontalalignment='left',\n",
    "         size='medium',\n",
    "         color='black',\n",
    "         weight='semibold')\n",
    "plt.show()"
   ]
  },
  {
   "cell_type": "markdown",
   "metadata": {},
   "source": [
    "Gymkata and Troll2 got closer!!"
   ]
  },
  {
   "cell_type": "code",
   "execution_count": 35,
   "metadata": {},
   "outputs": [],
   "source": [
    "word_embeddings= nn.Embedding.from_pretrained(modelLinear.input_to_hidden.weight.T)"
   ]
  },
  {
   "cell_type": "code",
   "execution_count": 36,
   "metadata": {},
   "outputs": [
    {
     "data": {
      "text/plain": [
       "Embedding(4, 2)"
      ]
     },
     "execution_count": 36,
     "metadata": {},
     "output_type": "execute_result"
    }
   ],
   "source": [
    "word_embeddings"
   ]
  },
  {
   "cell_type": "code",
   "execution_count": 37,
   "metadata": {},
   "outputs": [
    {
     "data": {
      "text/plain": [
       "Parameter containing:\n",
       "tensor([[ 1.9355, -1.9822],\n",
       "        [-2.3616,  1.3296],\n",
       "        [ 1.8615,  1.8533],\n",
       "        [ 1.8081, -1.8607]])"
      ]
     },
     "execution_count": 37,
     "metadata": {},
     "output_type": "execute_result"
    }
   ],
   "source": [
    "word_embeddings.weight"
   ]
  },
  {
   "cell_type": "code",
   "execution_count": 38,
   "metadata": {},
   "outputs": [
    {
     "data": {
      "text/plain": [
       "tensor([ 1.9355, -1.9822])"
      ]
     },
     "execution_count": 38,
     "metadata": {},
     "output_type": "execute_result"
    }
   ],
   "source": [
    "word_embeddings(torch.tensor(0))"
   ]
  },
  {
   "cell_type": "code",
   "execution_count": 39,
   "metadata": {},
   "outputs": [
    {
     "data": {
      "text/plain": [
       "tensor([ 1.9355, -1.9822])"
      ]
     },
     "execution_count": 39,
     "metadata": {},
     "output_type": "execute_result"
    }
   ],
   "source": [
    "vocab={'Troll2':0,\n",
    "       'is':1,\n",
    "       'great':2,\n",
    "       'Gymkata':3\n",
    "       }\n",
    "\n",
    "word_embeddings(torch.tensor(vocab['Troll2']))"
   ]
  }
 ],
 "metadata": {
  "kernelspec": {
   "display_name": "Python 3",
   "language": "python",
   "name": "python3"
  },
  "language_info": {
   "codemirror_mode": {
    "name": "ipython",
    "version": 3
   },
   "file_extension": ".py",
   "mimetype": "text/x-python",
   "name": "python",
   "nbconvert_exporter": "python",
   "pygments_lexer": "ipython3",
   "version": "3.10.5"
  }
 },
 "nbformat": 4,
 "nbformat_minor": 2
}
